{
 "cells": [
  {
   "cell_type": "markdown",
   "id": "2112cc24-c44d-43c1-b4aa-206d7846e034",
   "metadata": {},
   "source": [
    "# Newspaper titles surrounding Peking opera actress Meng Xiaodong"
   ]
  },
  {
   "cell_type": "markdown",
   "id": "825f148a-ae3f-41ab-a1cd-80483172ffe0",
   "metadata": {},
   "source": [
    "### Yun-Pu Yang"
   ]
  },
  {
   "cell_type": "markdown",
   "id": "49f73d33-8539-4b38-be84-807f7998ad62",
   "metadata": {},
   "source": [
    "My [dataset](https://jupyter.idre.ucla.edu/user/yunpuyang@ucla.edu/doc/tree/dh140/Debug%201920-30-Grid%20view.csv) is newspaper titles written between 1920 to 1930 surrounding Peking opera actress Meng Xiaodong."
   ]
  },
  {
   "cell_type": "code",
   "execution_count": null,
   "id": "16314dc2-d190-4079-9b96-2f7397aec8a0",
   "metadata": {},
   "outputs": [],
   "source": []
  }
 ],
 "metadata": {
  "kernelspec": {
   "display_name": "Python 3 (ipykernel)",
   "language": "python",
   "name": "python3"
  },
  "language_info": {
   "codemirror_mode": {
    "name": "ipython",
    "version": 3
   },
   "file_extension": ".py",
   "mimetype": "text/x-python",
   "name": "python",
   "nbconvert_exporter": "python",
   "pygments_lexer": "ipython3",
   "version": "3.9.6"
  }
 },
 "nbformat": 4,
 "nbformat_minor": 5
}
