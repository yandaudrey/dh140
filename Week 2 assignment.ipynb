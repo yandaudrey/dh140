{
 "cells": [
  {
   "cell_type": "markdown",
   "id": "cd5152ef-28fd-4c60-bafc-35a151cc97ad",
   "metadata": {
    "tags": []
   },
   "source": [
    "# Week 2 assignment: Broadway "
   ]
  },
  {
   "cell_type": "markdown",
   "id": "8a55a711-dca3-4a83-a785-7ac47d8f4799",
   "metadata": {},
   "source": [
    "# Due: Jan 16, 2022"
   ]
  },
  {
   "cell_type": "markdown",
   "id": "206d692d-c16e-4937-a99d-90189cdc357c",
   "metadata": {},
   "source": [
    "Name: Yun-Pu Yang"
   ]
  },
  {
   "cell_type": "markdown",
   "id": "439df30c-fc3d-401c-859b-2a1ac7f12447",
   "metadata": {},
   "source": [
    "My dataset is [Broadway Python Library](https://corgis-edu.github.io/corgis/datasets/python/broadway/broadway.py) from the CORGIS Dataset Project."
   ]
  },
  {
   "cell_type": "code",
   "execution_count": null,
   "id": "cf6bc0ab-a651-44e7-b0d8-bc81d105f90e",
   "metadata": {},
   "outputs": [],
   "source": []
  }
 ],
 "metadata": {
  "kernelspec": {
   "display_name": "Python 3 (ipykernel)",
   "language": "python",
   "name": "python3"
  },
  "language_info": {
   "codemirror_mode": {
    "name": "ipython",
    "version": 3
   },
   "file_extension": ".py",
   "mimetype": "text/x-python",
   "name": "python",
   "nbconvert_exporter": "python",
   "pygments_lexer": "ipython3",
   "version": "3.9.6"
  }
 },
 "nbformat": 4,
 "nbformat_minor": 5
}
