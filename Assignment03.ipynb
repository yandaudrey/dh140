{
 "cells": [
  {
   "cell_type": "markdown",
   "id": "bb4f5554-efc9-460e-8254-995efb5f06ac",
   "metadata": {},
   "source": [
    "# Assignment 3"
   ]
  },
  {
   "cell_type": "markdown",
   "id": "77df600c-5f4a-4e18-bd2d-88551a4f1cc6",
   "metadata": {},
   "source": [
    "## Pandas and plotting exercises"
   ]
  },
  {
   "cell_type": "code",
   "execution_count": 1,
   "id": "f5e83735-8845-4afc-b79a-b0efe963d305",
   "metadata": {},
   "outputs": [],
   "source": [
    "# Import the pandas library\n",
    "import pandas as pd"
   ]
  },
  {
   "cell_type": "markdown",
   "id": "c4fe53d9-5776-45c6-b47d-9465a2888808",
   "metadata": {},
   "source": [
    "In Week 2, you used a dataset from the CORGIS website.  You may have used either the Python, CSV, or JSON data files.\n",
    "\n",
    "For this assignment, use the CSV file format for the same category of data that you used previously."
   ]
  },
  {
   "cell_type": "code",
   "execution_count": 2,
   "id": "c5850ef7-07fb-456c-9943-ba9e87cc0784",
   "metadata": {},
   "outputs": [],
   "source": [
    "# Use pandas read_csv function to import the data into a dataframe variable\n",
    "broadway_df = pd.read_csv('broadway.csv')"
   ]
  },
  {
   "cell_type": "code",
   "execution_count": 3,
   "id": "ab04825f-f9ba-49ae-bf40-322f4e2554a9",
   "metadata": {},
   "outputs": [
    {
     "data": {
      "text/html": [
       "<div>\n",
       "<style scoped>\n",
       "    .dataframe tbody tr th:only-of-type {\n",
       "        vertical-align: middle;\n",
       "    }\n",
       "\n",
       "    .dataframe tbody tr th {\n",
       "        vertical-align: top;\n",
       "    }\n",
       "\n",
       "    .dataframe thead th {\n",
       "        text-align: right;\n",
       "    }\n",
       "</style>\n",
       "<table border=\"1\" class=\"dataframe\">\n",
       "  <thead>\n",
       "    <tr style=\"text-align: right;\">\n",
       "      <th></th>\n",
       "      <th>Date.Day</th>\n",
       "      <th>Date.Full</th>\n",
       "      <th>Date.Month</th>\n",
       "      <th>Date.Year</th>\n",
       "      <th>Show.Name</th>\n",
       "      <th>Show.Theatre</th>\n",
       "      <th>Show.Type</th>\n",
       "      <th>Statistics.Attendance</th>\n",
       "      <th>Statistics.Capacity</th>\n",
       "      <th>Statistics.Gross</th>\n",
       "      <th>Statistics.Gross Potential</th>\n",
       "      <th>Statistics.Performances</th>\n",
       "    </tr>\n",
       "  </thead>\n",
       "  <tbody>\n",
       "    <tr>\n",
       "      <th>0</th>\n",
       "      <td>26</td>\n",
       "      <td>8/26/1990</td>\n",
       "      <td>8</td>\n",
       "      <td>1990</td>\n",
       "      <td>Tru</td>\n",
       "      <td>Booth</td>\n",
       "      <td>Play</td>\n",
       "      <td>5500</td>\n",
       "      <td>88</td>\n",
       "      <td>134456</td>\n",
       "      <td>0</td>\n",
       "      <td>8</td>\n",
       "    </tr>\n",
       "    <tr>\n",
       "      <th>1</th>\n",
       "      <td>24</td>\n",
       "      <td>3/24/1991</td>\n",
       "      <td>3</td>\n",
       "      <td>1991</td>\n",
       "      <td>Miss Saigon</td>\n",
       "      <td>Broadway</td>\n",
       "      <td>Musical</td>\n",
       "      <td>1737</td>\n",
       "      <td>100</td>\n",
       "      <td>100647</td>\n",
       "      <td>0</td>\n",
       "      <td>0</td>\n",
       "    </tr>\n",
       "    <tr>\n",
       "      <th>2</th>\n",
       "      <td>31</td>\n",
       "      <td>3/31/1991</td>\n",
       "      <td>3</td>\n",
       "      <td>1991</td>\n",
       "      <td>Miss Saigon</td>\n",
       "      <td>Broadway</td>\n",
       "      <td>Musical</td>\n",
       "      <td>12160</td>\n",
       "      <td>100</td>\n",
       "      <td>634424</td>\n",
       "      <td>0</td>\n",
       "      <td>0</td>\n",
       "    </tr>\n",
       "    <tr>\n",
       "      <th>3</th>\n",
       "      <td>7</td>\n",
       "      <td>4/7/1991</td>\n",
       "      <td>4</td>\n",
       "      <td>1991</td>\n",
       "      <td>Miss Saigon</td>\n",
       "      <td>Broadway</td>\n",
       "      <td>Musical</td>\n",
       "      <td>13921</td>\n",
       "      <td>100</td>\n",
       "      <td>713353</td>\n",
       "      <td>0</td>\n",
       "      <td>0</td>\n",
       "    </tr>\n",
       "    <tr>\n",
       "      <th>4</th>\n",
       "      <td>14</td>\n",
       "      <td>4/14/1991</td>\n",
       "      <td>4</td>\n",
       "      <td>1991</td>\n",
       "      <td>Miss Saigon</td>\n",
       "      <td>Broadway</td>\n",
       "      <td>Musical</td>\n",
       "      <td>10973</td>\n",
       "      <td>90</td>\n",
       "      <td>573981</td>\n",
       "      <td>0</td>\n",
       "      <td>4</td>\n",
       "    </tr>\n",
       "    <tr>\n",
       "      <th>...</th>\n",
       "      <td>...</td>\n",
       "      <td>...</td>\n",
       "      <td>...</td>\n",
       "      <td>...</td>\n",
       "      <td>...</td>\n",
       "      <td>...</td>\n",
       "      <td>...</td>\n",
       "      <td>...</td>\n",
       "      <td>...</td>\n",
       "      <td>...</td>\n",
       "      <td>...</td>\n",
       "      <td>...</td>\n",
       "    </tr>\n",
       "    <tr>\n",
       "      <th>31291</th>\n",
       "      <td>14</td>\n",
       "      <td>8/14/2016</td>\n",
       "      <td>8</td>\n",
       "      <td>2016</td>\n",
       "      <td>The Humans</td>\n",
       "      <td>Schoenfeld</td>\n",
       "      <td>Play</td>\n",
       "      <td>7234</td>\n",
       "      <td>87</td>\n",
       "      <td>603770</td>\n",
       "      <td>62</td>\n",
       "      <td>8</td>\n",
       "    </tr>\n",
       "    <tr>\n",
       "      <th>31292</th>\n",
       "      <td>14</td>\n",
       "      <td>8/14/2016</td>\n",
       "      <td>8</td>\n",
       "      <td>2016</td>\n",
       "      <td>The Lion King</td>\n",
       "      <td>Minskoff</td>\n",
       "      <td>Musical</td>\n",
       "      <td>13485</td>\n",
       "      <td>99</td>\n",
       "      <td>2233894</td>\n",
       "      <td>97</td>\n",
       "      <td>8</td>\n",
       "    </tr>\n",
       "    <tr>\n",
       "      <th>31293</th>\n",
       "      <td>14</td>\n",
       "      <td>8/14/2016</td>\n",
       "      <td>8</td>\n",
       "      <td>2016</td>\n",
       "      <td>The Phantom Of The Opera</td>\n",
       "      <td>Majestic</td>\n",
       "      <td>Musical</td>\n",
       "      <td>10966</td>\n",
       "      <td>85</td>\n",
       "      <td>999632</td>\n",
       "      <td>66</td>\n",
       "      <td>8</td>\n",
       "    </tr>\n",
       "    <tr>\n",
       "      <th>31294</th>\n",
       "      <td>14</td>\n",
       "      <td>8/14/2016</td>\n",
       "      <td>8</td>\n",
       "      <td>2016</td>\n",
       "      <td>Waitress</td>\n",
       "      <td>Brooks Atkinson</td>\n",
       "      <td>Musical</td>\n",
       "      <td>8058</td>\n",
       "      <td>96</td>\n",
       "      <td>990128</td>\n",
       "      <td>97</td>\n",
       "      <td>8</td>\n",
       "    </tr>\n",
       "    <tr>\n",
       "      <th>31295</th>\n",
       "      <td>14</td>\n",
       "      <td>8/14/2016</td>\n",
       "      <td>8</td>\n",
       "      <td>2016</td>\n",
       "      <td>Wicked</td>\n",
       "      <td>Gershwin</td>\n",
       "      <td>Musical</td>\n",
       "      <td>13804</td>\n",
       "      <td>95</td>\n",
       "      <td>1779664</td>\n",
       "      <td>100</td>\n",
       "      <td>8</td>\n",
       "    </tr>\n",
       "  </tbody>\n",
       "</table>\n",
       "<p>31296 rows × 12 columns</p>\n",
       "</div>"
      ],
      "text/plain": [
       "       Date.Day  Date.Full  Date.Month  Date.Year                 Show.Name  \\\n",
       "0            26  8/26/1990           8       1990                       Tru   \n",
       "1            24  3/24/1991           3       1991               Miss Saigon   \n",
       "2            31  3/31/1991           3       1991               Miss Saigon   \n",
       "3             7   4/7/1991           4       1991               Miss Saigon   \n",
       "4            14  4/14/1991           4       1991               Miss Saigon   \n",
       "...         ...        ...         ...        ...                       ...   \n",
       "31291        14  8/14/2016           8       2016                The Humans   \n",
       "31292        14  8/14/2016           8       2016             The Lion King   \n",
       "31293        14  8/14/2016           8       2016  The Phantom Of The Opera   \n",
       "31294        14  8/14/2016           8       2016                  Waitress   \n",
       "31295        14  8/14/2016           8       2016                    Wicked   \n",
       "\n",
       "          Show.Theatre Show.Type  Statistics.Attendance  Statistics.Capacity  \\\n",
       "0                Booth      Play                   5500                   88   \n",
       "1             Broadway   Musical                   1737                  100   \n",
       "2             Broadway   Musical                  12160                  100   \n",
       "3             Broadway   Musical                  13921                  100   \n",
       "4             Broadway   Musical                  10973                   90   \n",
       "...                ...       ...                    ...                  ...   \n",
       "31291       Schoenfeld      Play                   7234                   87   \n",
       "31292         Minskoff   Musical                  13485                   99   \n",
       "31293         Majestic   Musical                  10966                   85   \n",
       "31294  Brooks Atkinson   Musical                   8058                   96   \n",
       "31295         Gershwin   Musical                  13804                   95   \n",
       "\n",
       "       Statistics.Gross  Statistics.Gross Potential  Statistics.Performances  \n",
       "0                134456                           0                        8  \n",
       "1                100647                           0                        0  \n",
       "2                634424                           0                        0  \n",
       "3                713353                           0                        0  \n",
       "4                573981                           0                        4  \n",
       "...                 ...                         ...                      ...  \n",
       "31291            603770                          62                        8  \n",
       "31292           2233894                          97                        8  \n",
       "31293            999632                          66                        8  \n",
       "31294            990128                          97                        8  \n",
       "31295           1779664                         100                        8  \n",
       "\n",
       "[31296 rows x 12 columns]"
      ]
     },
     "execution_count": 3,
     "metadata": {},
     "output_type": "execute_result"
    }
   ],
   "source": [
    "# How many rows and columns does the dataframe have?\n",
    "broadway_df"
   ]
  },
  {
   "cell_type": "code",
   "execution_count": 4,
   "id": "e20a45fc-dfc0-4559-977b-d2b86e2f6534",
   "metadata": {},
   "outputs": [
    {
     "data": {
      "text/plain": [
       "Index(['Date.Day', 'Date.Full', 'Date.Month', 'Date.Year', 'Show.Name',\n",
       "       'Show.Theatre', 'Show.Type', 'Statistics.Attendance',\n",
       "       'Statistics.Capacity', 'Statistics.Gross', 'Statistics.Gross Potential',\n",
       "       'Statistics.Performances'],\n",
       "      dtype='object')"
      ]
     },
     "execution_count": 4,
     "metadata": {},
     "output_type": "execute_result"
    }
   ],
   "source": [
    "# What are the column names of the dataframe?\n",
    "df = broadway_df\n",
    "df.columns"
   ]
  },
  {
   "cell_type": "code",
   "execution_count": 5,
   "id": "7a549f96-8e8e-456a-a219-096dcddb1fb8",
   "metadata": {},
   "outputs": [
    {
     "data": {
      "text/plain": [
       "Date.Day                       int64\n",
       "Date.Full                     object\n",
       "Date.Month                     int64\n",
       "Date.Year                      int64\n",
       "Show.Name                     object\n",
       "Show.Theatre                  object\n",
       "Show.Type                     object\n",
       "Statistics.Attendance          int64\n",
       "Statistics.Capacity            int64\n",
       "Statistics.Gross               int64\n",
       "Statistics.Gross Potential     int64\n",
       "Statistics.Performances        int64\n",
       "dtype: object"
      ]
     },
     "execution_count": 5,
     "metadata": {},
     "output_type": "execute_result"
    }
   ],
   "source": [
    "# What are the datatypes of each column?\n",
    "df.dtypes"
   ]
  },
  {
   "cell_type": "code",
   "execution_count": 6,
   "id": "51471321-443e-4b23-846e-54630d29af29",
   "metadata": {},
   "outputs": [
    {
     "data": {
      "text/html": [
       "<div>\n",
       "<style scoped>\n",
       "    .dataframe tbody tr th:only-of-type {\n",
       "        vertical-align: middle;\n",
       "    }\n",
       "\n",
       "    .dataframe tbody tr th {\n",
       "        vertical-align: top;\n",
       "    }\n",
       "\n",
       "    .dataframe thead th {\n",
       "        text-align: right;\n",
       "    }\n",
       "</style>\n",
       "<table border=\"1\" class=\"dataframe\">\n",
       "  <thead>\n",
       "    <tr style=\"text-align: right;\">\n",
       "      <th></th>\n",
       "      <th>Date.Day</th>\n",
       "      <th>Date.Full</th>\n",
       "      <th>Date.Month</th>\n",
       "      <th>Date.Year</th>\n",
       "      <th>Show.Name</th>\n",
       "      <th>Show.Theatre</th>\n",
       "      <th>Show.Type</th>\n",
       "      <th>Statistics.Attendance</th>\n",
       "      <th>Statistics.Capacity</th>\n",
       "      <th>Statistics.Gross</th>\n",
       "      <th>Statistics.Gross Potential</th>\n",
       "      <th>Statistics.Performances</th>\n",
       "    </tr>\n",
       "  </thead>\n",
       "  <tbody>\n",
       "    <tr>\n",
       "      <th>0</th>\n",
       "      <td>26</td>\n",
       "      <td>8/26/1990</td>\n",
       "      <td>8</td>\n",
       "      <td>1990</td>\n",
       "      <td>Tru</td>\n",
       "      <td>Booth</td>\n",
       "      <td>Play</td>\n",
       "      <td>5500</td>\n",
       "      <td>88</td>\n",
       "      <td>134456</td>\n",
       "      <td>0</td>\n",
       "      <td>8</td>\n",
       "    </tr>\n",
       "    <tr>\n",
       "      <th>1</th>\n",
       "      <td>24</td>\n",
       "      <td>3/24/1991</td>\n",
       "      <td>3</td>\n",
       "      <td>1991</td>\n",
       "      <td>Miss Saigon</td>\n",
       "      <td>Broadway</td>\n",
       "      <td>Musical</td>\n",
       "      <td>1737</td>\n",
       "      <td>100</td>\n",
       "      <td>100647</td>\n",
       "      <td>0</td>\n",
       "      <td>0</td>\n",
       "    </tr>\n",
       "  </tbody>\n",
       "</table>\n",
       "</div>"
      ],
      "text/plain": [
       "   Date.Day  Date.Full  Date.Month  Date.Year    Show.Name Show.Theatre  \\\n",
       "0        26  8/26/1990           8       1990          Tru        Booth   \n",
       "1        24  3/24/1991           3       1991  Miss Saigon     Broadway   \n",
       "\n",
       "  Show.Type  Statistics.Attendance  Statistics.Capacity  Statistics.Gross  \\\n",
       "0      Play                   5500                   88            134456   \n",
       "1   Musical                   1737                  100            100647   \n",
       "\n",
       "   Statistics.Gross Potential  Statistics.Performances  \n",
       "0                           0                        8  \n",
       "1                           0                        0  "
      ]
     },
     "execution_count": 6,
     "metadata": {},
     "output_type": "execute_result"
    }
   ],
   "source": [
    "# Look at the first 2 rows of the dataframe\n",
    "df.head(2)"
   ]
  },
  {
   "cell_type": "code",
   "execution_count": 7,
   "id": "f0206392-0e77-497c-8394-ad3e229a83ab",
   "metadata": {},
   "outputs": [
    {
     "data": {
      "text/html": [
       "<div>\n",
       "<style scoped>\n",
       "    .dataframe tbody tr th:only-of-type {\n",
       "        vertical-align: middle;\n",
       "    }\n",
       "\n",
       "    .dataframe tbody tr th {\n",
       "        vertical-align: top;\n",
       "    }\n",
       "\n",
       "    .dataframe thead th {\n",
       "        text-align: right;\n",
       "    }\n",
       "</style>\n",
       "<table border=\"1\" class=\"dataframe\">\n",
       "  <thead>\n",
       "    <tr style=\"text-align: right;\">\n",
       "      <th></th>\n",
       "      <th>Date.Day</th>\n",
       "      <th>Date.Full</th>\n",
       "      <th>Date.Month</th>\n",
       "      <th>Date.Year</th>\n",
       "      <th>Show.Name</th>\n",
       "      <th>Show.Theatre</th>\n",
       "      <th>Show.Type</th>\n",
       "      <th>Statistics.Attendance</th>\n",
       "      <th>Statistics.Capacity</th>\n",
       "      <th>Statistics.Gross</th>\n",
       "      <th>Statistics.Gross Potential</th>\n",
       "      <th>Statistics.Performances</th>\n",
       "    </tr>\n",
       "  </thead>\n",
       "  <tbody>\n",
       "    <tr>\n",
       "      <th>31294</th>\n",
       "      <td>14</td>\n",
       "      <td>8/14/2016</td>\n",
       "      <td>8</td>\n",
       "      <td>2016</td>\n",
       "      <td>Waitress</td>\n",
       "      <td>Brooks Atkinson</td>\n",
       "      <td>Musical</td>\n",
       "      <td>8058</td>\n",
       "      <td>96</td>\n",
       "      <td>990128</td>\n",
       "      <td>97</td>\n",
       "      <td>8</td>\n",
       "    </tr>\n",
       "    <tr>\n",
       "      <th>31295</th>\n",
       "      <td>14</td>\n",
       "      <td>8/14/2016</td>\n",
       "      <td>8</td>\n",
       "      <td>2016</td>\n",
       "      <td>Wicked</td>\n",
       "      <td>Gershwin</td>\n",
       "      <td>Musical</td>\n",
       "      <td>13804</td>\n",
       "      <td>95</td>\n",
       "      <td>1779664</td>\n",
       "      <td>100</td>\n",
       "      <td>8</td>\n",
       "    </tr>\n",
       "  </tbody>\n",
       "</table>\n",
       "</div>"
      ],
      "text/plain": [
       "       Date.Day  Date.Full  Date.Month  Date.Year Show.Name     Show.Theatre  \\\n",
       "31294        14  8/14/2016           8       2016  Waitress  Brooks Atkinson   \n",
       "31295        14  8/14/2016           8       2016    Wicked         Gershwin   \n",
       "\n",
       "      Show.Type  Statistics.Attendance  Statistics.Capacity  Statistics.Gross  \\\n",
       "31294   Musical                   8058                   96            990128   \n",
       "31295   Musical                  13804                   95           1779664   \n",
       "\n",
       "       Statistics.Gross Potential  Statistics.Performances  \n",
       "31294                          97                        8  \n",
       "31295                         100                        8  "
      ]
     },
     "execution_count": 7,
     "metadata": {},
     "output_type": "execute_result"
    }
   ],
   "source": [
    "# Look at the last 2 rows of the dataframe\n",
    "df.tail(2)\n"
   ]
  },
  {
   "cell_type": "code",
   "execution_count": 8,
   "id": "e87824ad-9ff4-487d-8506-00d940083ae0",
   "metadata": {},
   "outputs": [
    {
     "data": {
      "text/html": [
       "<div>\n",
       "<style scoped>\n",
       "    .dataframe tbody tr th:only-of-type {\n",
       "        vertical-align: middle;\n",
       "    }\n",
       "\n",
       "    .dataframe tbody tr th {\n",
       "        vertical-align: top;\n",
       "    }\n",
       "\n",
       "    .dataframe thead th {\n",
       "        text-align: right;\n",
       "    }\n",
       "</style>\n",
       "<table border=\"1\" class=\"dataframe\">\n",
       "  <thead>\n",
       "    <tr style=\"text-align: right;\">\n",
       "      <th></th>\n",
       "      <th>Date.Day</th>\n",
       "      <th>Date.Month</th>\n",
       "      <th>Date.Year</th>\n",
       "      <th>Statistics.Attendance</th>\n",
       "      <th>Statistics.Capacity</th>\n",
       "      <th>Statistics.Gross</th>\n",
       "      <th>Statistics.Gross Potential</th>\n",
       "      <th>Statistics.Performances</th>\n",
       "    </tr>\n",
       "  </thead>\n",
       "  <tbody>\n",
       "    <tr>\n",
       "      <th>count</th>\n",
       "      <td>31296.000000</td>\n",
       "      <td>31296.000000</td>\n",
       "      <td>31296.000000</td>\n",
       "      <td>31296.000000</td>\n",
       "      <td>31296.000000</td>\n",
       "      <td>3.129600e+04</td>\n",
       "      <td>31296.000000</td>\n",
       "      <td>31296.000000</td>\n",
       "    </tr>\n",
       "    <tr>\n",
       "      <th>mean</th>\n",
       "      <td>15.720859</td>\n",
       "      <td>6.509043</td>\n",
       "      <td>2005.875128</td>\n",
       "      <td>8010.523006</td>\n",
       "      <td>80.738912</td>\n",
       "      <td>5.960688e+05</td>\n",
       "      <td>62.404045</td>\n",
       "      <td>7.224821</td>\n",
       "    </tr>\n",
       "    <tr>\n",
       "      <th>std</th>\n",
       "      <td>8.817000</td>\n",
       "      <td>3.430321</td>\n",
       "      <td>6.100118</td>\n",
       "      <td>3189.873933</td>\n",
       "      <td>18.842815</td>\n",
       "      <td>3.809796e+05</td>\n",
       "      <td>28.714589</td>\n",
       "      <td>2.235376</td>\n",
       "    </tr>\n",
       "    <tr>\n",
       "      <th>min</th>\n",
       "      <td>1.000000</td>\n",
       "      <td>1.000000</td>\n",
       "      <td>1990.000000</td>\n",
       "      <td>24.000000</td>\n",
       "      <td>10.000000</td>\n",
       "      <td>1.037000e+03</td>\n",
       "      <td>0.000000</td>\n",
       "      <td>0.000000</td>\n",
       "    </tr>\n",
       "    <tr>\n",
       "      <th>25%</th>\n",
       "      <td>8.000000</td>\n",
       "      <td>4.000000</td>\n",
       "      <td>2001.000000</td>\n",
       "      <td>5508.000000</td>\n",
       "      <td>70.000000</td>\n",
       "      <td>3.201085e+05</td>\n",
       "      <td>45.000000</td>\n",
       "      <td>8.000000</td>\n",
       "    </tr>\n",
       "    <tr>\n",
       "      <th>50%</th>\n",
       "      <td>16.000000</td>\n",
       "      <td>6.000000</td>\n",
       "      <td>2006.000000</td>\n",
       "      <td>7801.500000</td>\n",
       "      <td>83.000000</td>\n",
       "      <td>5.145200e+05</td>\n",
       "      <td>63.000000</td>\n",
       "      <td>8.000000</td>\n",
       "    </tr>\n",
       "    <tr>\n",
       "      <th>75%</th>\n",
       "      <td>23.000000</td>\n",
       "      <td>10.000000</td>\n",
       "      <td>2011.000000</td>\n",
       "      <td>10348.000000</td>\n",
       "      <td>95.000000</td>\n",
       "      <td>7.852690e+05</td>\n",
       "      <td>82.000000</td>\n",
       "      <td>8.000000</td>\n",
       "    </tr>\n",
       "    <tr>\n",
       "      <th>max</th>\n",
       "      <td>31.000000</td>\n",
       "      <td>12.000000</td>\n",
       "      <td>2016.000000</td>\n",
       "      <td>21631.000000</td>\n",
       "      <td>892.000000</td>\n",
       "      <td>3.201333e+06</td>\n",
       "      <td>226.000000</td>\n",
       "      <td>16.000000</td>\n",
       "    </tr>\n",
       "  </tbody>\n",
       "</table>\n",
       "</div>"
      ],
      "text/plain": [
       "           Date.Day    Date.Month     Date.Year  Statistics.Attendance  \\\n",
       "count  31296.000000  31296.000000  31296.000000           31296.000000   \n",
       "mean      15.720859      6.509043   2005.875128            8010.523006   \n",
       "std        8.817000      3.430321      6.100118            3189.873933   \n",
       "min        1.000000      1.000000   1990.000000              24.000000   \n",
       "25%        8.000000      4.000000   2001.000000            5508.000000   \n",
       "50%       16.000000      6.000000   2006.000000            7801.500000   \n",
       "75%       23.000000     10.000000   2011.000000           10348.000000   \n",
       "max       31.000000     12.000000   2016.000000           21631.000000   \n",
       "\n",
       "       Statistics.Capacity  Statistics.Gross  Statistics.Gross Potential  \\\n",
       "count         31296.000000      3.129600e+04                31296.000000   \n",
       "mean             80.738912      5.960688e+05                   62.404045   \n",
       "std              18.842815      3.809796e+05                   28.714589   \n",
       "min              10.000000      1.037000e+03                    0.000000   \n",
       "25%              70.000000      3.201085e+05                   45.000000   \n",
       "50%              83.000000      5.145200e+05                   63.000000   \n",
       "75%              95.000000      7.852690e+05                   82.000000   \n",
       "max             892.000000      3.201333e+06                  226.000000   \n",
       "\n",
       "       Statistics.Performances  \n",
       "count             31296.000000  \n",
       "mean                  7.224821  \n",
       "std                   2.235376  \n",
       "min                   0.000000  \n",
       "25%                   8.000000  \n",
       "50%                   8.000000  \n",
       "75%                   8.000000  \n",
       "max                  16.000000  "
      ]
     },
     "execution_count": 8,
     "metadata": {},
     "output_type": "execute_result"
    }
   ],
   "source": [
    "# Print out summary statistics about the dataframe\n",
    "df.describe()"
   ]
  },
  {
   "cell_type": "code",
   "execution_count": 9,
   "id": "9b5dfabd-61b3-4cda-80d4-7a20444afa25",
   "metadata": {},
   "outputs": [
    {
     "data": {
      "text/plain": [
       "0                             Tru\n",
       "1                     Miss Saigon\n",
       "2                     Miss Saigon\n",
       "3                     Miss Saigon\n",
       "4                     Miss Saigon\n",
       "                   ...           \n",
       "31291                  The Humans\n",
       "31292               The Lion King\n",
       "31293    The Phantom Of The Opera\n",
       "31294                    Waitress\n",
       "31295                      Wicked\n",
       "Name: Show.Name, Length: 31296, dtype: object"
      ]
     },
     "execution_count": 9,
     "metadata": {},
     "output_type": "execute_result"
    }
   ],
   "source": [
    "# Choose a column and print out the column (it's ok if the output is abbreviated)\n",
    "df['Show.Name']"
   ]
  },
  {
   "cell_type": "code",
   "execution_count": 10,
   "id": "0c5e2c07-0dff-4e78-bbb7-8faef3fdf758",
   "metadata": {},
   "outputs": [
    {
     "data": {
      "text/plain": [
       "<AxesSubplot:xlabel='Show.Name'>"
      ]
     },
     "execution_count": 10,
     "metadata": {},
     "output_type": "execute_result"
    },
    {
     "data": {
      "image/png": "[encoded data removed]",
      "text/plain": [
       "<Figure size 432x288 with 1 Axes>"
      ]
     },
     "metadata": {
      "needs_background": "light"
     },
     "output_type": "display_data"
    }
   ],
   "source": [
    "# Choose a column that has numeric values and make a line plot of the values\n",
    "df.plot(x='Show.Name', y='Statistics.Attendance')"
   ]
  },
  {
   "cell_type": "code",
   "execution_count": 11,
   "id": "6e7c7f92-3b6c-4cd0-a9ef-6356cb4c2ca5",
   "metadata": {},
   "outputs": [
    {
     "data": {
      "text/plain": [
       "<AxesSubplot:xlabel='Show.Name'>"
      ]
     },
     "execution_count": 11,
     "metadata": {},
     "output_type": "execute_result"
    },
    {
     "data": {
      "image/png": "[encoded data removed]",
      "text/plain": [
       "<Figure size 432x288 with 1 Axes>"
      ]
     },
     "metadata": {
      "needs_background": "light"
     },
     "output_type": "display_data"
    }
   ],
   "source": [
    "# Use \"loc\" to print out the first 10 elements of the plotted column\n",
    "df.iloc[:9].plot(kind='bar', x='Show.Name', y='Statistics.Attendance')"
   ]
  },
  {
   "cell_type": "code",
   "execution_count": 12,
   "id": "3a7b0251-f9e3-4f81-858d-d6c1c2b41e2d",
   "metadata": {},
   "outputs": [
    {
     "data": {
      "text/plain": [
       "<AxesSubplot:xlabel='Show.Name'>"
      ]
     },
     "execution_count": 12,
     "metadata": {},
     "output_type": "execute_result"
    },
    {
     "data": {
      "image/png": "[encoded data removed]",
      "text/plain": [
       "<Figure size 432x288 with 1 Axes>"
      ]
     },
     "metadata": {
      "needs_background": "light"
     },
     "output_type": "display_data"
    }
   ],
   "source": [
    "# Use \"loc\" to print out the first 10 elements of the plotted column\n",
    "# as well as the matching 10 elements of a different column that has interesting text\n",
    "df.iloc[:9].plot(kind='bar', x='Show.Name', y='Statistics.Gross')"
   ]
  },
  {
   "cell_type": "code",
   "execution_count": 13,
   "id": "e2b2a59b-4246-40cc-b5de-728bd678b832",
   "metadata": {},
   "outputs": [],
   "source": [
    "# Assign the dataframe values from the previous cell into a new dataframe variable\n",
    "# and make a bar plot with the text values horizontally and the numeric values as the bar heights"
   ]
  },
  {
   "cell_type": "code",
   "execution_count": 14,
   "id": "0b62e415-1322-4c5d-af5d-39e284ffef57",
   "metadata": {},
   "outputs": [],
   "source": [
    "showname = df.loc[:]['Show.Name']\n",
    "gross = df.loc[:]['Statistics.Gross']\n",
    "dict = {'showname': showname, 'gross': gross}\n",
    "df = pd.DataFrame(dict)"
   ]
  },
  {
   "cell_type": "code",
   "execution_count": 15,
   "id": "405c9397-a5fa-4c0b-a8d9-7996a8f707aa",
   "metadata": {},
   "outputs": [
    {
     "data": {
      "text/html": [
       "<div>\n",
       "<style scoped>\n",
       "    .dataframe tbody tr th:only-of-type {\n",
       "        vertical-align: middle;\n",
       "    }\n",
       "\n",
       "    .dataframe tbody tr th {\n",
       "        vertical-align: top;\n",
       "    }\n",
       "\n",
       "    .dataframe thead th {\n",
       "        text-align: right;\n",
       "    }\n",
       "</style>\n",
       "<table border=\"1\" class=\"dataframe\">\n",
       "  <thead>\n",
       "    <tr style=\"text-align: right;\">\n",
       "      <th></th>\n",
       "      <th>showname</th>\n",
       "      <th>gross</th>\n",
       "    </tr>\n",
       "  </thead>\n",
       "  <tbody>\n",
       "    <tr>\n",
       "      <th>0</th>\n",
       "      <td>Tru</td>\n",
       "      <td>134456</td>\n",
       "    </tr>\n",
       "    <tr>\n",
       "      <th>1</th>\n",
       "      <td>Miss Saigon</td>\n",
       "      <td>100647</td>\n",
       "    </tr>\n",
       "    <tr>\n",
       "      <th>2</th>\n",
       "      <td>Miss Saigon</td>\n",
       "      <td>634424</td>\n",
       "    </tr>\n",
       "    <tr>\n",
       "      <th>3</th>\n",
       "      <td>Miss Saigon</td>\n",
       "      <td>713353</td>\n",
       "    </tr>\n",
       "    <tr>\n",
       "      <th>4</th>\n",
       "      <td>Miss Saigon</td>\n",
       "      <td>573981</td>\n",
       "    </tr>\n",
       "    <tr>\n",
       "      <th>...</th>\n",
       "      <td>...</td>\n",
       "      <td>...</td>\n",
       "    </tr>\n",
       "    <tr>\n",
       "      <th>31291</th>\n",
       "      <td>The Humans</td>\n",
       "      <td>603770</td>\n",
       "    </tr>\n",
       "    <tr>\n",
       "      <th>31292</th>\n",
       "      <td>The Lion King</td>\n",
       "      <td>2233894</td>\n",
       "    </tr>\n",
       "    <tr>\n",
       "      <th>31293</th>\n",
       "      <td>The Phantom Of The Opera</td>\n",
       "      <td>999632</td>\n",
       "    </tr>\n",
       "    <tr>\n",
       "      <th>31294</th>\n",
       "      <td>Waitress</td>\n",
       "      <td>990128</td>\n",
       "    </tr>\n",
       "    <tr>\n",
       "      <th>31295</th>\n",
       "      <td>Wicked</td>\n",
       "      <td>1779664</td>\n",
       "    </tr>\n",
       "  </tbody>\n",
       "</table>\n",
       "<p>31296 rows × 2 columns</p>\n",
       "</div>"
      ],
      "text/plain": [
       "                       showname    gross\n",
       "0                           Tru   134456\n",
       "1                   Miss Saigon   100647\n",
       "2                   Miss Saigon   634424\n",
       "3                   Miss Saigon   713353\n",
       "4                   Miss Saigon   573981\n",
       "...                         ...      ...\n",
       "31291                The Humans   603770\n",
       "31292             The Lion King  2233894\n",
       "31293  The Phantom Of The Opera   999632\n",
       "31294                  Waitress   990128\n",
       "31295                    Wicked  1779664\n",
       "\n",
       "[31296 rows x 2 columns]"
      ]
     },
     "execution_count": 15,
     "metadata": {},
     "output_type": "execute_result"
    }
   ],
   "source": [
    "df"
   ]
  },
  {
   "cell_type": "code",
   "execution_count": 16,
   "id": "eca6f19f-9f1c-47a5-94bb-30a314edf768",
   "metadata": {},
   "outputs": [
    {
     "data": {
      "text/plain": [
       "<AxesSubplot:xlabel='showname'>"
      ]
     },
     "execution_count": 16,
     "metadata": {},
     "output_type": "execute_result"
    },
    {
     "data": {
      "image/png": "[encoded data removed]",
      "text/plain": [
       "<Figure size 432x288 with 1 Axes>"
      ]
     },
     "metadata": {
      "needs_background": "light"
     },
     "output_type": "display_data"
    }
   ],
   "source": [
    "df.iloc[0:19].plot(kind='bar', x='showname', y='gross')"
   ]
  },
  {
   "cell_type": "code",
   "execution_count": 17,
   "id": "46120796-845a-49b3-997f-b44825e375ea",
   "metadata": {},
   "outputs": [
    {
     "data": {
      "text/plain": [
       "<AxesSubplot:ylabel='showname'>"
      ]
     },
     "execution_count": 17,
     "metadata": {},
     "output_type": "execute_result"
    },
    {
     "data": {
      "image/png": "[encoded data removed]",
      "text/plain": [
       "<Figure size 432x288 with 1 Axes>"
      ]
     },
     "metadata": {
      "needs_background": "light"
     },
     "output_type": "display_data"
    }
   ],
   "source": [
    "# Re-do the plot from the previous cell as a horizontal bar plot\n",
    "df.iloc[0:19].plot(kind='barh', x='showname',y='gross')"
   ]
  },
  {
   "cell_type": "code",
   "execution_count": 18,
   "id": "c8273eab-a2d6-445a-a92d-869375b82428",
   "metadata": {},
   "outputs": [
    {
     "data": {
      "text/plain": [
       "<AxesSubplot:xlabel='showname'>"
      ]
     },
     "execution_count": 18,
     "metadata": {},
     "output_type": "execute_result"
    },
    {
     "data": {
      "image/png": "[encoded data removed]",
      "text/plain": [
       "<Figure size 936x432 with 1 Axes>"
      ]
     },
     "metadata": {
      "needs_background": "light"
     },
     "output_type": "display_data"
    }
   ],
   "source": [
    "# Re-do the plot from the previous cell\n",
    "# and change at least two aesthetic elements (colors, labels, titles, ...)\n",
    "df.iloc[0:19].plot(kind='bar', \n",
    "                   x='showname', \n",
    "                   y='gross', \n",
    "                   figsize=(13,6))"
   ]
  },
  {
   "cell_type": "code",
   "execution_count": 19,
   "id": "04a00349-8bb6-4e86-b065-62d7ff1530f0",
   "metadata": {},
   "outputs": [
    {
     "name": "stdout",
     "output_type": "stream",
     "text": [
      "['red']\n",
      "['red', 'red']\n",
      "['red', 'red', 'red']\n",
      "['red', 'red', 'red', 'red']\n",
      "['red', 'red', 'red', 'red', 'red']\n",
      "['red', 'red', 'red', 'red', 'red', 'red']\n",
      "['red', 'red', 'red', 'red', 'red', 'red', 'red']\n",
      "['red', 'red', 'red', 'red', 'red', 'red', 'red', 'red']\n",
      "['red', 'red', 'red', 'red', 'red', 'red', 'red', 'red', 'red']\n",
      "['red', 'red', 'red', 'red', 'red', 'red', 'red', 'red', 'red', 'red']\n",
      "['red', 'red', 'red', 'red', 'red', 'red', 'red', 'red', 'red', 'red', 'red']\n",
      "['red', 'red', 'red', 'red', 'red', 'red', 'red', 'red', 'red', 'red', 'red', 'red']\n",
      "['red', 'red', 'red', 'red', 'red', 'red', 'red', 'red', 'red', 'red', 'red', 'red', 'red']\n",
      "['red', 'red', 'red', 'red', 'red', 'red', 'red', 'red', 'red', 'red', 'red', 'red', 'red', 'red']\n",
      "['red', 'red', 'red', 'red', 'red', 'red', 'red', 'red', 'red', 'red', 'red', 'red', 'red', 'red', 'red']\n",
      "['red', 'red', 'red', 'red', 'red', 'red', 'red', 'red', 'red', 'red', 'red', 'red', 'red', 'red', 'red', 'red']\n",
      "['red', 'red', 'red', 'red', 'red', 'red', 'red', 'red', 'red', 'red', 'red', 'red', 'red', 'red', 'red', 'red', 'red']\n",
      "['red', 'red', 'red', 'red', 'red', 'red', 'red', 'red', 'red', 'red', 'red', 'red', 'red', 'red', 'red', 'red', 'red', 'red']\n",
      "['red', 'red', 'red', 'red', 'red', 'red', 'red', 'red', 'red', 'red', 'red', 'red', 'red', 'red', 'red', 'red', 'red', 'red', 'red']\n"
     ]
    }
   ],
   "source": [
    "barcolors = []\n",
    "for i in df[0:19].index:\n",
    "    barcolors.append('red')\n",
    "    print(barcolors)"
   ]
  },
  {
   "cell_type": "code",
   "execution_count": 20,
   "id": "374e358e-24bb-466b-821d-89e1c768ecc7",
   "metadata": {},
   "outputs": [
    {
     "data": {
      "text/plain": [
       "<AxesSubplot:xlabel='showname'>"
      ]
     },
     "execution_count": 20,
     "metadata": {},
     "output_type": "execute_result"
    },
    {
     "data": {
      "image/png": "[encoded data removed]",
      "text/plain": [
       "<Figure size 936x432 with 1 Axes>"
      ]
     },
     "metadata": {
      "needs_background": "light"
     },
     "output_type": "display_data"
    }
   ],
   "source": [
    "df.iloc[0:19].plot(kind='bar', \n",
    "                   x='showname', \n",
    "                   y='gross', \n",
    "                   figsize=(13,6),\n",
    "                   color = barcolors)"
   ]
  },
  {
   "cell_type": "markdown",
   "id": "48245e7e-c7b9-43ee-a8e2-d66502b899fc",
   "metadata": {},
   "source": [
    "# Free form section"
   ]
  },
  {
   "cell_type": "markdown",
   "id": "66503e37-f96a-4a25-aaf6-c7d8b9f8cbdd",
   "metadata": {},
   "source": [
    "* Choose another type of plot that interests you from the [pandas.DataFrame.plot documentation](https://pandas.pydata.org/docs/reference/api/pandas.DataFrame.plot.html#) [look at the 'kind' parameter] and make a new plot of your dataset values using the plot type"
   ]
  },
  {
   "cell_type": "code",
   "execution_count": 21,
   "id": "3fa0ce73-b09e-46a6-b1e7-2d68f2696f8d",
   "metadata": {},
   "outputs": [
    {
     "data": {
      "text/plain": [
       "<AxesSubplot:xlabel='showname', ylabel='gross'>"
      ]
     },
     "execution_count": 21,
     "metadata": {},
     "output_type": "execute_result"
    },
    {
     "data": {
      "image/png": "[encoded data removed]",
      "text/plain": [
       "<Figure size 936x432 with 1 Axes>"
      ]
     },
     "metadata": {
      "needs_background": "light"
     },
     "output_type": "display_data"
    }
   ],
   "source": [
    "df.iloc[0:19].plot(kind='scatter', \n",
    "                   x='showname', \n",
    "                   y='gross', \n",
    "                   figsize=(13,6),\n",
    "                   color = barcolors)"
   ]
  },
  {
   "cell_type": "markdown",
   "id": "6eb40e90-d302-49d1-a8a3-ed406d9b984d",
   "metadata": {},
   "source": [
    "* Copy some of your analysis from the Week 2 assignment into new cells below\n",
    "* Clean them up if desired, and make sure that you translate them to work with your new pandas dataframe structure here if needed\n",
    "* Create several plots to complement and extend your analysis"
   ]
  },
  {
   "cell_type": "code",
   "execution_count": 22,
   "id": "45844e08-8fa6-4de9-8f2b-6b221664699b",
   "metadata": {},
   "outputs": [],
   "source": [
    "broadway_df = pd.read_csv('broadway.csv')"
   ]
  },
  {
   "cell_type": "code",
   "execution_count": 23,
   "id": "343c853e-179d-4b24-92d3-c7b68532f344",
   "metadata": {},
   "outputs": [],
   "source": [
    "df = broadway_df"
   ]
  },
  {
   "cell_type": "code",
   "execution_count": 24,
   "id": "43da4255-086a-4068-bbd2-25683f74427a",
   "metadata": {},
   "outputs": [
    {
     "name": "stdout",
     "output_type": "stream",
     "text": [
      "0                  Booth\n",
      "1               Broadway\n",
      "2               Broadway\n",
      "3               Broadway\n",
      "4               Broadway\n",
      "              ...       \n",
      "31291         Schoenfeld\n",
      "31292           Minskoff\n",
      "31293           Majestic\n",
      "31294    Brooks Atkinson\n",
      "31295           Gershwin\n",
      "Name: Show.Theatre, Length: 31296, dtype: object\n"
     ]
    }
   ],
   "source": [
    "print(df['Show.Theatre'])"
   ]
  },
  {
   "cell_type": "code",
   "execution_count": 25,
   "id": "7d756a6d-3b15-48c0-b4ee-2a8772506dd2",
   "metadata": {},
   "outputs": [
    {
     "data": {
      "text/plain": [
       "<AxesSubplot:xlabel='Show.Name'>"
      ]
     },
     "execution_count": 25,
     "metadata": {},
     "output_type": "execute_result"
    },
    {
     "data": {
      "image/png": "[encoded data removed]",
      "text/plain": [
       "<Figure size 432x288 with 1 Axes>"
      ]
     },
     "metadata": {
      "needs_background": "light"
     },
     "output_type": "display_data"
    }
   ],
   "source": [
    "# for i in production:\n",
    "#    print(str(i['Show']['Name']) , ': ' , i['Statistics']['Attendance'])\n",
    "\n",
    "df.iloc[0:19].plot(kind='bar', x='Show.Name', y='Statistics.Attendance')"
   ]
  },
  {
   "cell_type": "code",
   "execution_count": 26,
   "id": "1755bb0c-129a-4296-8f55-c5777dd33975",
   "metadata": {},
   "outputs": [
    {
     "data": {
      "text/plain": [
       "<AxesSubplot:xlabel='Show.Name'>"
      ]
     },
     "execution_count": 26,
     "metadata": {},
     "output_type": "execute_result"
    },
    {
     "data": {
      "image/png": "[encoded data removed]",
      "text/plain": [
       "<Figure size 432x288 with 1 Axes>"
      ]
     },
     "metadata": {
      "needs_background": "light"
     },
     "output_type": "display_data"
    }
   ],
   "source": [
    "# for i in production:\n",
    "#    print(str(i['Show']['Name']), ',', i['Statistics']['Performances'])\n",
    "df.iloc[0:19].plot(kind='bar', x='Show.Name', y='Statistics.Performances')"
   ]
  },
  {
   "cell_type": "code",
   "execution_count": null,
   "id": "d65f115e-cd09-485f-8ebd-41e2cb200576",
   "metadata": {},
   "outputs": [],
   "source": []
  },
  {
   "cell_type": "code",
   "execution_count": null,
   "id": "bf359448-a104-48d6-8b55-acd160b6ac7f",
   "metadata": {},
   "outputs": [],
   "source": []
  },
  {
   "cell_type": "code",
   "execution_count": null,
   "id": "7ed76aed-7ca4-4314-90e2-145532936c6d",
   "metadata": {},
   "outputs": [],
   "source": []
  }
 ],
 "metadata": {
  "kernelspec": {
   "display_name": "Python 3 (ipykernel)",
   "language": "python",
   "name": "python3"
  },
  "language_info": {
   "codemirror_mode": {
    "name": "ipython",
    "version": 3
   },
   "file_extension": ".py",
   "mimetype": "text/x-python",
   "name": "python",
   "nbconvert_exporter": "python",
   "pygments_lexer": "ipython3",
   "version": "3.9.6"
  }
 },
 "nbformat": 4,
 "nbformat_minor": 5
}
